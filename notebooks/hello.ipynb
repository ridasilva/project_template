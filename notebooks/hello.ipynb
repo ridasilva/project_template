{
 "cells": [
  {
   "cell_type": "markdown",
   "id": "9001d545-87d2-4422-be56-f2b9f6a99b17",
   "metadata": {},
   "source": [
    "# Executando módulo personalizado no _notebook_"
   ]
  },
  {
   "cell_type": "markdown",
   "id": "521ea6a8-4501-4cdd-ac28-f81a221e7d58",
   "metadata": {},
   "source": [
    "Adicionar o diretório acima ao caminho de módulos em variável de ambiente python."
   ]
  },
  {
   "cell_type": "code",
   "execution_count": 2,
   "id": "667bddec-bba2-482a-bd3e-f88eee1f178e",
   "metadata": {},
   "outputs": [],
   "source": [
    "import sys\n",
    "sys.path.append(\"..\")"
   ]
  },
  {
   "cell_type": "code",
   "execution_count": 3,
   "id": "5c6cfaf4-0bc7-45a8-b5e8-1815fd034176",
   "metadata": {},
   "outputs": [],
   "source": [
    "from hello import hello"
   ]
  },
  {
   "cell_type": "code",
   "execution_count": 4,
   "id": "13891a1d-7056-4b49-a0a8-dda509bdb0ce",
   "metadata": {},
   "outputs": [
    {
     "data": {
      "text/plain": [
       "\u001b[0;31mSignature:\u001b[0m \u001b[0mhello\u001b[0m\u001b[0;34m(\u001b[0m\u001b[0mnome_visitante\u001b[0m\u001b[0;34m)\u001b[0m\u001b[0;34m\u001b[0m\u001b[0;34m\u001b[0m\u001b[0m\n",
       "\u001b[0;31mDocstring:\u001b[0m Função que imprime uma mensagem de boas vindas.\n",
       "\u001b[0;31mFile:\u001b[0m      ~/Documents/project_template/hello.py\n",
       "\u001b[0;31mType:\u001b[0m      function"
      ]
     },
     "metadata": {},
     "output_type": "display_data"
    }
   ],
   "source": [
    "?hello"
   ]
  },
  {
   "cell_type": "code",
   "execution_count": 5,
   "id": "2fe5b70e-a028-4b10-a98e-0ed28e666fbe",
   "metadata": {},
   "outputs": [
    {
     "name": "stdout",
     "output_type": "stream",
     "text": [
      "Olá Joca, seja bem-vindo!\n"
     ]
    }
   ],
   "source": [
    "hello('Joca')"
   ]
  },
  {
   "cell_type": "code",
   "execution_count": null,
   "id": "6b8b545a-1446-449f-b162-2fe3a10a9795",
   "metadata": {},
   "outputs": [],
   "source": []
  }
 ],
 "metadata": {
  "kernelspec": {
   "display_name": "Python 3 (ipykernel)",
   "language": "python",
   "name": "python3"
  },
  "language_info": {
   "codemirror_mode": {
    "name": "ipython",
    "version": 3
   },
   "file_extension": ".py",
   "mimetype": "text/x-python",
   "name": "python",
   "nbconvert_exporter": "python",
   "pygments_lexer": "ipython3",
   "version": "3.12.4"
  }
 },
 "nbformat": 4,
 "nbformat_minor": 5
}
